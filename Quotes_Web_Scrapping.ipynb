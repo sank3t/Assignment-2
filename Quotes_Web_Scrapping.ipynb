{
 "cells": [
  {
   "cell_type": "code",
   "execution_count": 1,
   "id": "1cd9a783-cd8b-4978-8c3f-8975d8d41204",
   "metadata": {},
   "outputs": [],
   "source": [
    "import requests\n",
    "from bs4 import BeautifulSoup\n",
    "import pandas as pd"
   ]
  },
  {
   "cell_type": "code",
   "execution_count": 2,
   "id": "080be1c4-2513-4aa1-8176-073d15a6ba3c",
   "metadata": {},
   "outputs": [],
   "source": [
    "author_quotes_dict = {\n",
    "    \"author\": list(),\n",
    "    \"quote\": list(),\n",
    "    \"tags\": list()\n",
    "}"
   ]
  },
  {
   "cell_type": "code",
   "execution_count": 3,
   "id": "4898306a-7200-491b-afcc-41823598bf94",
   "metadata": {},
   "outputs": [
    {
     "name": "stdout",
     "output_type": "stream",
     "text": [
      "Scraping page #1 ....\n",
      "Page #1 scraped successfully!!\n",
      "--------------------------------------------------\n",
      "Scraping page #2 ....\n",
      "Page #2 scraped successfully!!\n",
      "--------------------------------------------------\n",
      "Scraping page #3 ....\n",
      "Page #3 scraped successfully!!\n",
      "--------------------------------------------------\n",
      "Scraping page #4 ....\n",
      "Page #4 scraped successfully!!\n",
      "--------------------------------------------------\n",
      "Scraping page #5 ....\n",
      "Page #5 scraped successfully!!\n",
      "--------------------------------------------------\n",
      "Scraping page #6 ....\n",
      "Page #6 scraped successfully!!\n",
      "--------------------------------------------------\n",
      "Scraping page #7 ....\n",
      "Page #7 scraped successfully!!\n",
      "--------------------------------------------------\n",
      "Scraping page #8 ....\n",
      "Page #8 scraped successfully!!\n",
      "--------------------------------------------------\n",
      "Scraping page #9 ....\n",
      "Page #9 scraped successfully!!\n",
      "--------------------------------------------------\n",
      "Scraping page #10 ....\n",
      "Page #10 scraped successfully!!\n",
      "--------------------------------------------------\n"
     ]
    }
   ],
   "source": [
    "for page_num in range(1, 11):\n",
    "    print(f\"Scraping page #{page_num} ....\")\n",
    "    \n",
    "    url = f\"http://quotes.toscrape.com/page/{page_num}/\"\n",
    "    # Getting response via url\n",
    "    response = requests.get(url)\n",
    "\n",
    "    # Checking the status code\n",
    "    if response.status_code == 200:\n",
    "        # Reading server response\n",
    "        response = response.content\n",
    "        soup = BeautifulSoup(response, \"html.parser\")\n",
    "\n",
    "        # Getting all the quotes from the page\n",
    "        quotes = soup.find_all(\"div\", class_=\"quote\")\n",
    "\n",
    "        # Parsing every quote\n",
    "        for quote in quotes:\n",
    "            text = quote.find(\"span\").string\n",
    "            author = quote.find(\"small\").string\n",
    "            tags = quote.find(\"meta\")[\"content\"]\n",
    "\n",
    "            # Storing the values in the dictionary\n",
    "            author_quotes_dict[\"author\"].append(author)\n",
    "            author_quotes_dict[\"quote\"].append(text)\n",
    "            author_quotes_dict[\"tags\"].append(tags)\n",
    "    else:\n",
    "        raise ValueError(f\"Problem in scraping page #{page_num} !!\")\n",
    "\n",
    "    print(f\"Page #{page_num} scraped successfully!!\")\n",
    "    print(\"-\"*50)"
   ]
  },
  {
   "cell_type": "code",
   "execution_count": 4,
   "id": "e571dba8-75c6-49c9-87cc-49b1a8daea6d",
   "metadata": {},
   "outputs": [
    {
     "data": {
      "text/html": [
       "<div>\n",
       "<style scoped>\n",
       "    .dataframe tbody tr th:only-of-type {\n",
       "        vertical-align: middle;\n",
       "    }\n",
       "\n",
       "    .dataframe tbody tr th {\n",
       "        vertical-align: top;\n",
       "    }\n",
       "\n",
       "    .dataframe thead th {\n",
       "        text-align: right;\n",
       "    }\n",
       "</style>\n",
       "<table border=\"1\" class=\"dataframe\">\n",
       "  <thead>\n",
       "    <tr style=\"text-align: right;\">\n",
       "      <th></th>\n",
       "      <th>author</th>\n",
       "      <th>quote</th>\n",
       "      <th>tags</th>\n",
       "    </tr>\n",
       "  </thead>\n",
       "  <tbody>\n",
       "    <tr>\n",
       "      <th>0</th>\n",
       "      <td>Albert Einstein</td>\n",
       "      <td>“The world as we have created it is a process ...</td>\n",
       "      <td>change,deep-thoughts,thinking,world</td>\n",
       "    </tr>\n",
       "    <tr>\n",
       "      <th>1</th>\n",
       "      <td>J.K. Rowling</td>\n",
       "      <td>“It is our choices, Harry, that show what we t...</td>\n",
       "      <td>abilities,choices</td>\n",
       "    </tr>\n",
       "    <tr>\n",
       "      <th>2</th>\n",
       "      <td>Albert Einstein</td>\n",
       "      <td>“There are only two ways to live your life. On...</td>\n",
       "      <td>inspirational,life,live,miracle,miracles</td>\n",
       "    </tr>\n",
       "    <tr>\n",
       "      <th>3</th>\n",
       "      <td>Jane Austen</td>\n",
       "      <td>“The person, be it gentleman or lady, who has ...</td>\n",
       "      <td>aliteracy,books,classic,humor</td>\n",
       "    </tr>\n",
       "    <tr>\n",
       "      <th>4</th>\n",
       "      <td>Marilyn Monroe</td>\n",
       "      <td>“Imperfection is beauty, madness is genius and...</td>\n",
       "      <td>be-yourself,inspirational</td>\n",
       "    </tr>\n",
       "  </tbody>\n",
       "</table>\n",
       "</div>"
      ],
      "text/plain": [
       "            author                                              quote  \\\n",
       "0  Albert Einstein  “The world as we have created it is a process ...   \n",
       "1     J.K. Rowling  “It is our choices, Harry, that show what we t...   \n",
       "2  Albert Einstein  “There are only two ways to live your life. On...   \n",
       "3      Jane Austen  “The person, be it gentleman or lady, who has ...   \n",
       "4   Marilyn Monroe  “Imperfection is beauty, madness is genius and...   \n",
       "\n",
       "                                       tags  \n",
       "0       change,deep-thoughts,thinking,world  \n",
       "1                         abilities,choices  \n",
       "2  inspirational,life,live,miracle,miracles  \n",
       "3             aliteracy,books,classic,humor  \n",
       "4                 be-yourself,inspirational  "
      ]
     },
     "metadata": {},
     "output_type": "display_data"
    }
   ],
   "source": [
    "# Creating dataframe of the scraped quotes\n",
    "author_quotes_df = pd.DataFrame(author_quotes_dict)\n",
    "\n",
    "display(author_quotes_df.head())"
   ]
  },
  {
   "cell_type": "code",
   "execution_count": 5,
   "id": "82afd8ee-dcc9-4cbb-9702-9cb22bcfd8cd",
   "metadata": {},
   "outputs": [],
   "source": [
    "# Saving the dataframe as CSV\n",
    "author_quotes_df.to_csv(\"author_quotes.csv\", index=False)"
   ]
  }
 ],
 "metadata": {
  "kernelspec": {
   "display_name": "Python 3 (ipykernel)",
   "language": "python",
   "name": "python3"
  },
  "language_info": {
   "codemirror_mode": {
    "name": "ipython",
    "version": 3
   },
   "file_extension": ".py",
   "mimetype": "text/x-python",
   "name": "python",
   "nbconvert_exporter": "python",
   "pygments_lexer": "ipython3",
   "version": "3.9.6"
  }
 },
 "nbformat": 4,
 "nbformat_minor": 5
}
